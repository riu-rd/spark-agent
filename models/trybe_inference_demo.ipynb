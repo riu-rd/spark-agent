{
 "cells": [
  {
   "cell_type": "markdown",
   "metadata": {},
   "source": [
    "# TRYBE AI Models - Inference Demo\n",
    "\n",
    "This notebook demonstrates how to use the pre-trained TRYBE models for inference.\n",
    "\n",
    "## Models Overview\n",
    "\n",
    "We have two pre-trained models:\n",
    "\n",
    "1. **TRYBE Discrepancy Detector** (`trybe_discrepancy_detector.pkl`)\n",
    "   - Detects floating cash transactions where funds are stuck between accounts\n",
    "   - Rule-based detection using transaction duration thresholds\n",
    "\n",
    "2. **TRYBE Risk Predictor** (`trybe_risk_predictor.pkl`)\n",
    "   - Predicts the probability that a transaction will become floating cash\n",
    "   - Machine learning model (Random Forest) trained on historical data"
   ]
  },
  {
   "cell_type": "markdown",
   "metadata": {},
   "source": [
    "## Setup and Imports"
   ]
  },
  {
   "cell_type": "code",
   "execution_count": 1,
   "metadata": {},
   "outputs": [],
   "source": [
    "import pickle\n",
    "import pandas as pd\n",
    "import numpy as np\n",
    "from IPython.display import display, Markdown\n",
    "import warnings\n",
    "warnings.filterwarnings('ignore')\n",
    "\n",
    "# Import the model classes\n",
    "from trybe_models import TRYBEDiscrepancyDetector, TRYBERiskPredictor"
   ]
  },
  {
   "cell_type": "markdown",
   "metadata": {},
   "source": [
    "## Load Pre-trained Models\n",
    "\n",
    "The models were trained on 10,000 historical transactions from the BPI banking system."
   ]
  },
  {
   "cell_type": "code",
   "execution_count": 2,
   "metadata": {},
   "outputs": [
    {
     "name": "stdout",
     "output_type": "stream",
     "text": [
      "✅ Loaded TRYBE Discrepancy Detector\n",
      "✅ Loaded TRYBE Risk Predictor\n",
      "   Model type: random_forest\n",
      "   Features used: 16\n"
     ]
    }
   ],
   "source": [
    "# Load the pre-trained models from pickle files\n",
    "with open('trybe_discrepancy_detector.pkl', 'rb') as f:\n",
    "    detector = pickle.load(f)\n",
    "    print(\"✅ Loaded TRYBE Discrepancy Detector\")\n",
    "\n",
    "with open('trybe_risk_predictor.pkl', 'rb') as f:\n",
    "    predictor = pickle.load(f)\n",
    "    print(\"✅ Loaded TRYBE Risk Predictor\")\n",
    "    print(f\"   Model type: {predictor.model_type}\")\n",
    "    print(f\"   Features used: {len(predictor.feature_cols)}\")"
   ]
  },
  {
   "cell_type": "markdown",
   "metadata": {},
   "source": [
    "## Model 1: TRYBE Discrepancy Detector\n",
    "\n",
    "### How it was created\n",
    "The Discrepancy Detector uses a rule-based approach to identify transactions that have been floating for too long.\n",
    "\n",
    "### Input Fields\n",
    "- **transaction_id**: Unique identifier for the transaction\n",
    "- **user_id**: User who initiated the transaction\n",
    "- **amount**: Transaction amount in currency\n",
    "- **transaction_type**: Type of transaction (e.g., Bank to e-Wallet, QR Payment)\n",
    "- **status_4**: Final status of the transaction\n",
    "- **floating_duration_minutes**: How long the transaction has been floating\n",
    "- **manual_escalation_needed**: Whether manual intervention is required\n",
    "\n",
    "### Output\n",
    "- **detected_discrepancy**: Boolean flag indicating if transaction is flagged as floating cash"
   ]
  },
  {
   "cell_type": "code",
   "execution_count": 3,
   "metadata": {},
   "outputs": [
    {
     "name": "stdout",
     "output_type": "stream",
     "text": [
      "Flagged 1/1 transactions (100.00%)\n"
     ]
    },
    {
     "data": {
      "text/markdown": [
       "### Detection Result"
      ],
      "text/plain": [
       "<IPython.core.display.Markdown object>"
      ]
     },
     "metadata": {},
     "output_type": "display_data"
    },
    {
     "data": {
      "text/markdown": [
       "⚠️ **ALERT: Transaction flagged as floating cash!**"
      ],
      "text/plain": [
       "<IPython.core.display.Markdown object>"
      ]
     },
     "metadata": {},
     "output_type": "display_data"
    },
    {
     "data": {
      "text/markdown": [
       "- Transaction has been floating for 45 minutes"
      ],
      "text/plain": [
       "<IPython.core.display.Markdown object>"
      ]
     },
     "metadata": {},
     "output_type": "display_data"
    },
    {
     "data": {
      "text/markdown": [
       "- Amount at risk: $5,000.00"
      ],
      "text/plain": [
       "<IPython.core.display.Markdown object>"
      ]
     },
     "metadata": {},
     "output_type": "display_data"
    }
   ],
   "source": [
    "# Example: Single Transaction Detection\n",
    "sample_transaction = pd.DataFrame([{\n",
    "    'transaction_id': 'TXN_2025_001',\n",
    "    'user_id': 'USER_12345',\n",
    "    'amount': 5000.00,\n",
    "    'transaction_type': 'Bank to e-Wallet (GCash)',\n",
    "    'status_4': 'Failed (Timeout)',\n",
    "    'floating_duration_minutes': 45,  # Transaction stuck for 45 minutes\n",
    "    'manual_escalation_needed': False\n",
    "}])\n",
    "\n",
    "# Detect discrepancies\n",
    "result = detector.detect_discrepancies(sample_transaction)\n",
    "\n",
    "display(Markdown(\"### Detection Result\"))\n",
    "if result['detected_discrepancy'].iloc[0]:\n",
    "    display(Markdown(\"⚠️ **ALERT: Transaction flagged as floating cash!**\"))\n",
    "    display(Markdown(f\"- Transaction has been floating for {sample_transaction['floating_duration_minutes'].iloc[0]} minutes\"))\n",
    "    display(Markdown(f\"- Amount at risk: ${sample_transaction['amount'].iloc[0]:,.2f}\"))\n",
    "else:\n",
    "    display(Markdown(\"✅ **Transaction appears normal**\"))"
   ]
  },
  {
   "cell_type": "code",
   "execution_count": 4,
   "metadata": {},
   "outputs": [
    {
     "name": "stdout",
     "output_type": "stream",
     "text": [
      "Flagged 2/3 transactions (66.67%)\n"
     ]
    },
    {
     "data": {
      "text/markdown": [
       "### Batch Detection Results"
      ],
      "text/plain": [
       "<IPython.core.display.Markdown object>"
      ]
     },
     "metadata": {},
     "output_type": "display_data"
    },
    {
     "data": {
      "text/markdown": [
       "Total transactions analyzed: **3**"
      ],
      "text/plain": [
       "<IPython.core.display.Markdown object>"
      ]
     },
     "metadata": {},
     "output_type": "display_data"
    },
    {
     "data": {
      "text/markdown": [
       "Transactions flagged: **2**"
      ],
      "text/plain": [
       "<IPython.core.display.Markdown object>"
      ]
     },
     "metadata": {},
     "output_type": "display_data"
    },
    {
     "data": {
      "text/markdown": [
       "\n",
       "#### Flagged Transactions:"
      ],
      "text/plain": [
       "<IPython.core.display.Markdown object>"
      ]
     },
     "metadata": {},
     "output_type": "display_data"
    },
    {
     "data": {
      "text/html": [
       "<div>\n",
       "<style scoped>\n",
       "    .dataframe tbody tr th:only-of-type {\n",
       "        vertical-align: middle;\n",
       "    }\n",
       "\n",
       "    .dataframe tbody tr th {\n",
       "        vertical-align: top;\n",
       "    }\n",
       "\n",
       "    .dataframe thead th {\n",
       "        text-align: right;\n",
       "    }\n",
       "</style>\n",
       "<table border=\"1\" class=\"dataframe\">\n",
       "  <thead>\n",
       "    <tr style=\"text-align: right;\">\n",
       "      <th></th>\n",
       "      <th>transaction_id</th>\n",
       "      <th>amount</th>\n",
       "      <th>floating_duration_minutes</th>\n",
       "      <th>status_4</th>\n",
       "    </tr>\n",
       "  </thead>\n",
       "  <tbody>\n",
       "    <tr>\n",
       "      <th>1</th>\n",
       "      <td>TXN_2025_003</td>\n",
       "      <td>10000.0</td>\n",
       "      <td>120</td>\n",
       "      <td>Failed (Network Error)</td>\n",
       "    </tr>\n",
       "    <tr>\n",
       "      <th>2</th>\n",
       "      <td>TXN_2025_004</td>\n",
       "      <td>250.0</td>\n",
       "      <td>30</td>\n",
       "      <td>Processing</td>\n",
       "    </tr>\n",
       "  </tbody>\n",
       "</table>\n",
       "</div>"
      ],
      "text/plain": [
       "  transaction_id   amount  floating_duration_minutes                status_4\n",
       "1   TXN_2025_003  10000.0                        120  Failed (Network Error)\n",
       "2   TXN_2025_004    250.0                         30              Processing"
      ]
     },
     "metadata": {},
     "output_type": "display_data"
    }
   ],
   "source": [
    "# Example: Batch Detection on Multiple Transactions\n",
    "batch_transactions = pd.DataFrame([\n",
    "    {\n",
    "        'transaction_id': 'TXN_2025_002',\n",
    "        'user_id': 'USER_67890',\n",
    "        'amount': 1500.00,\n",
    "        'transaction_type': 'QR Payment (Merchant)',\n",
    "        'status_4': 'Credit Confirmed (Recipient)',\n",
    "        'floating_duration_minutes': 5,\n",
    "        'manual_escalation_needed': False\n",
    "    },\n",
    "    {\n",
    "        'transaction_id': 'TXN_2025_003',\n",
    "        'user_id': 'USER_11111',\n",
    "        'amount': 10000.00,\n",
    "        'transaction_type': 'Bank to Bank (InstaPay)',\n",
    "        'status_4': 'Failed (Network Error)',\n",
    "        'floating_duration_minutes': 120,\n",
    "        'manual_escalation_needed': True\n",
    "    },\n",
    "    {\n",
    "        'transaction_id': 'TXN_2025_004',\n",
    "        'user_id': 'USER_22222',\n",
    "        'amount': 250.00,\n",
    "        'transaction_type': 'Bills Payment (via Vybe Wallet)',\n",
    "        'status_4': 'Processing',\n",
    "        'floating_duration_minutes': 30,\n",
    "        'manual_escalation_needed': False\n",
    "    }\n",
    "])\n",
    "\n",
    "# Run batch detection\n",
    "batch_results = detector.detect_discrepancies(batch_transactions)\n",
    "\n",
    "# Get only flagged transactions\n",
    "flagged = detector.get_flagged_transactions(batch_results)\n",
    "\n",
    "display(Markdown(\"### Batch Detection Results\"))\n",
    "display(Markdown(f\"Total transactions analyzed: **{len(batch_transactions)}**\"))\n",
    "display(Markdown(f\"Transactions flagged: **{len(flagged)}**\"))\n",
    "\n",
    "if len(flagged) > 0:\n",
    "    display(Markdown(\"\\n#### Flagged Transactions:\"))\n",
    "    display(flagged[['transaction_id', 'amount', 'floating_duration_minutes', 'status_4']])"
   ]
  },
  {
   "cell_type": "markdown",
   "metadata": {},
   "source": [
    "## Model 2: TRYBE Risk Predictor\n",
    "\n",
    "### How it was created\n",
    "The Risk Predictor is a Random Forest classifier trained on historical transaction data. It uses 16 features including engineered features to predict floating cash probability.\n",
    "\n",
    "### Training Details\n",
    "- **Algorithm**: Random Forest with 150 trees\n",
    "- **Training Data**: 10,000 historical transactions\n",
    "- **Performance**: ~92% accuracy, ~95% AUC-ROC\n",
    "- **Class Balancing**: Used to handle imbalanced dataset (5% positive class)\n",
    "\n",
    "### Input Fields\n",
    "Core features required for prediction:\n",
    "- **amount**: Transaction amount\n",
    "- **simulated_network_latency**: Network latency in milliseconds\n",
    "- **transaction_type**: Type of transaction\n",
    "- **recipient_type**: Type of recipient (Individual/Business)\n",
    "- **recipient_bank_name_or_ewallet**: Target institution\n",
    "- **floating_duration_minutes**: Historical floating duration\n",
    "- **is_fraudulent_attempt**: Fraud flag\n",
    "- **is_cancellation**: Cancellation flag\n",
    "- **manual_escalation_needed**: Escalation flag\n",
    "- **timestamp_initiated**: Transaction timestamp (for time features)\n",
    "\n",
    "### Engineered Features (Auto-generated)\n",
    "- **amount_log**: Log-transformed amount\n",
    "- **is_high_amount**: Flag for amounts > 90th percentile\n",
    "- **is_high_latency**: Flag for latency > 1000ms\n",
    "- **hour_of_day**: Hour extracted from timestamp\n",
    "- **day_of_week**: Day of week (0=Monday)\n",
    "- **is_weekend**: Weekend flag\n",
    "- **high_risk_combo**: Combined fraud/escalation flag\n",
    "\n",
    "### Output\n",
    "- **risk_probability**: Float between 0 and 1 indicating probability of becoming floating cash"
   ]
  },
  {
   "cell_type": "code",
   "execution_count": 5,
   "metadata": {},
   "outputs": [
    {
     "data": {
      "text/markdown": [
       "### Risk Assessment"
      ],
      "text/plain": [
       "<IPython.core.display.Markdown object>"
      ]
     },
     "metadata": {},
     "output_type": "display_data"
    },
    {
     "data": {
      "text/markdown": [
       "**Transaction ID:** TXN_2025_005"
      ],
      "text/plain": [
       "<IPython.core.display.Markdown object>"
      ]
     },
     "metadata": {},
     "output_type": "display_data"
    },
    {
     "data": {
      "text/markdown": [
       "**Amount:** $15,000.00"
      ],
      "text/plain": [
       "<IPython.core.display.Markdown object>"
      ]
     },
     "metadata": {},
     "output_type": "display_data"
    },
    {
     "data": {
      "text/markdown": [
       "**Type:** Bank to e-Wallet (GCash)"
      ],
      "text/plain": [
       "<IPython.core.display.Markdown object>"
      ]
     },
     "metadata": {},
     "output_type": "display_data"
    },
    {
     "data": {
      "text/markdown": [
       "**Network Latency:** 1500ms"
      ],
      "text/plain": [
       "<IPython.core.display.Markdown object>"
      ]
     },
     "metadata": {},
     "output_type": "display_data"
    },
    {
     "data": {
      "text/markdown": [
       "\n",
       "**Predicted Risk Score:** 1.68%"
      ],
      "text/plain": [
       "<IPython.core.display.Markdown object>"
      ]
     },
     "metadata": {},
     "output_type": "display_data"
    },
    {
     "data": {
      "text/markdown": [
       "🟢 **LOW RISK** - Transaction should process normally"
      ],
      "text/plain": [
       "<IPython.core.display.Markdown object>"
      ]
     },
     "metadata": {},
     "output_type": "display_data"
    }
   ],
   "source": [
    "# Example: Single Transaction Risk Prediction\n",
    "new_transaction = {\n",
    "    'transaction_id': 'TXN_2025_005',\n",
    "    'user_id': 'USER_99999',\n",
    "    'timestamp_initiated': '2025-01-19 14:30:00',\n",
    "    'amount': 15000.00,  # High amount\n",
    "    'transaction_type': 'Bank to e-Wallet (GCash)',\n",
    "    'recipient_type': 'Individual',\n",
    "    'recipient_bank_name_or_ewallet': 'GCash',\n",
    "    'simulated_network_latency': 1500,  # High latency\n",
    "    'floating_duration_minutes': 0,  # New transaction\n",
    "    'is_fraudulent_attempt': False,\n",
    "    'is_cancellation': False,\n",
    "    'manual_escalation_needed': False\n",
    "}\n",
    "\n",
    "# Predict risk\n",
    "risk_score = predictor.predict_risk(new_transaction)\n",
    "\n",
    "display(Markdown(\"### Risk Assessment\"))\n",
    "display(Markdown(f\"**Transaction ID:** {new_transaction['transaction_id']}\"))\n",
    "display(Markdown(f\"**Amount:** ${new_transaction['amount']:,.2f}\"))\n",
    "display(Markdown(f\"**Type:** {new_transaction['transaction_type']}\"))\n",
    "display(Markdown(f\"**Network Latency:** {new_transaction['simulated_network_latency']}ms\"))\n",
    "display(Markdown(f\"\\n**Predicted Risk Score:** {risk_score:.2%}\"))\n",
    "\n",
    "# Risk categorization\n",
    "if risk_score > 0.7:\n",
    "    display(Markdown(\"🔴 **HIGH RISK** - Transaction likely to become floating cash\"))\n",
    "elif risk_score > 0.3:\n",
    "    display(Markdown(\"🟡 **MEDIUM RISK** - Monitor this transaction closely\"))\n",
    "else:\n",
    "    display(Markdown(\"🟢 **LOW RISK** - Transaction should process normally\"))"
   ]
  },
  {
   "cell_type": "code",
   "execution_count": 6,
   "metadata": {},
   "outputs": [
    {
     "data": {
      "text/markdown": [
       "### Batch Risk Assessment Results"
      ],
      "text/plain": [
       "<IPython.core.display.Markdown object>"
      ]
     },
     "metadata": {},
     "output_type": "display_data"
    },
    {
     "data": {
      "text/html": [
       "<div>\n",
       "<style scoped>\n",
       "    .dataframe tbody tr th:only-of-type {\n",
       "        vertical-align: middle;\n",
       "    }\n",
       "\n",
       "    .dataframe tbody tr th {\n",
       "        vertical-align: top;\n",
       "    }\n",
       "\n",
       "    .dataframe thead th {\n",
       "        text-align: right;\n",
       "    }\n",
       "</style>\n",
       "<table border=\"1\" class=\"dataframe\">\n",
       "  <thead>\n",
       "    <tr style=\"text-align: right;\">\n",
       "      <th></th>\n",
       "      <th>transaction_id</th>\n",
       "      <th>amount</th>\n",
       "      <th>transaction_type</th>\n",
       "      <th>risk_score</th>\n",
       "      <th>risk_category</th>\n",
       "    </tr>\n",
       "  </thead>\n",
       "  <tbody>\n",
       "    <tr>\n",
       "      <th>0</th>\n",
       "      <td>TXN_2025_006</td>\n",
       "      <td>500.0</td>\n",
       "      <td>QR Payment (P2P)</td>\n",
       "      <td>0.006440</td>\n",
       "      <td>Low Risk</td>\n",
       "    </tr>\n",
       "    <tr>\n",
       "      <th>1</th>\n",
       "      <td>TXN_2025_007</td>\n",
       "      <td>25000.0</td>\n",
       "      <td>Bank to Bank (PESONet)</td>\n",
       "      <td>0.037643</td>\n",
       "      <td>Low Risk</td>\n",
       "    </tr>\n",
       "    <tr>\n",
       "      <th>2</th>\n",
       "      <td>TXN_2025_008</td>\n",
       "      <td>2500.0</td>\n",
       "      <td>Bills Payment (via Vybe Wallet)</td>\n",
       "      <td>0.017885</td>\n",
       "      <td>Low Risk</td>\n",
       "    </tr>\n",
       "  </tbody>\n",
       "</table>\n",
       "</div>"
      ],
      "text/plain": [
       "  transaction_id   amount                 transaction_type  risk_score  \\\n",
       "0   TXN_2025_006    500.0                 QR Payment (P2P)    0.006440   \n",
       "1   TXN_2025_007  25000.0           Bank to Bank (PESONet)    0.037643   \n",
       "2   TXN_2025_008   2500.0  Bills Payment (via Vybe Wallet)    0.017885   \n",
       "\n",
       "  risk_category  \n",
       "0      Low Risk  \n",
       "1      Low Risk  \n",
       "2      Low Risk  "
      ]
     },
     "metadata": {},
     "output_type": "display_data"
    },
    {
     "data": {
      "text/markdown": [
       "\n",
       "### Risk Distribution"
      ],
      "text/plain": [
       "<IPython.core.display.Markdown object>"
      ]
     },
     "metadata": {},
     "output_type": "display_data"
    },
    {
     "data": {
      "text/markdown": [
       "- **Low Risk**: 3 transaction(s)"
      ],
      "text/plain": [
       "<IPython.core.display.Markdown object>"
      ]
     },
     "metadata": {},
     "output_type": "display_data"
    },
    {
     "data": {
      "text/markdown": [
       "- **Medium Risk**: 0 transaction(s)"
      ],
      "text/plain": [
       "<IPython.core.display.Markdown object>"
      ]
     },
     "metadata": {},
     "output_type": "display_data"
    },
    {
     "data": {
      "text/markdown": [
       "- **High Risk**: 0 transaction(s)"
      ],
      "text/plain": [
       "<IPython.core.display.Markdown object>"
      ]
     },
     "metadata": {},
     "output_type": "display_data"
    }
   ],
   "source": [
    "# Example: Batch Risk Prediction\n",
    "transactions_to_score = pd.DataFrame([\n",
    "    {\n",
    "        'transaction_id': 'TXN_2025_006',\n",
    "        'timestamp_initiated': '2025-01-19 09:00:00',\n",
    "        'amount': 500.00,\n",
    "        'transaction_type': 'QR Payment (P2P)',\n",
    "        'recipient_type': 'Individual',\n",
    "        'recipient_bank_name_or_ewallet': 'Maya',\n",
    "        'simulated_network_latency': 200,\n",
    "        'floating_duration_minutes': 0,\n",
    "        'is_fraudulent_attempt': False,\n",
    "        'is_cancellation': False,\n",
    "        'manual_escalation_needed': False\n",
    "    },\n",
    "    {\n",
    "        'transaction_id': 'TXN_2025_007',\n",
    "        'timestamp_initiated': '2025-01-19 23:45:00',  # Late night\n",
    "        'amount': 25000.00,  # Very high amount\n",
    "        'transaction_type': 'Bank to Bank (PESONet)',\n",
    "        'recipient_type': 'Business',\n",
    "        'recipient_bank_name_or_ewallet': 'BDO',\n",
    "        'simulated_network_latency': 2000,  # Very high latency\n",
    "        'floating_duration_minutes': 0,\n",
    "        'is_fraudulent_attempt': True,  # Fraud flag\n",
    "        'is_cancellation': False,\n",
    "        'manual_escalation_needed': True  # Needs escalation\n",
    "    },\n",
    "    {\n",
    "        'transaction_id': 'TXN_2025_008',\n",
    "        'timestamp_initiated': '2025-01-19 12:00:00',\n",
    "        'amount': 2500.00,\n",
    "        'transaction_type': 'Bills Payment (via Vybe Wallet)',\n",
    "        'recipient_type': 'Business',\n",
    "        'recipient_bank_name_or_ewallet': 'Meralco',\n",
    "        'simulated_network_latency': 500,\n",
    "        'floating_duration_minutes': 5,\n",
    "        'is_fraudulent_attempt': False,\n",
    "        'is_cancellation': False,\n",
    "        'manual_escalation_needed': False\n",
    "    }\n",
    "])\n",
    "\n",
    "# Predict risks for all transactions\n",
    "risk_scores = predictor.predict_risk(transactions_to_score)\n",
    "\n",
    "# Add risk scores to dataframe\n",
    "transactions_to_score['risk_score'] = risk_scores\n",
    "transactions_to_score['risk_category'] = pd.cut(\n",
    "    risk_scores,\n",
    "    bins=[0, 0.3, 0.7, 1.0],\n",
    "    labels=['Low Risk', 'Medium Risk', 'High Risk']\n",
    ")\n",
    "\n",
    "display(Markdown(\"### Batch Risk Assessment Results\"))\n",
    "display(transactions_to_score[['transaction_id', 'amount', 'transaction_type', 'risk_score', 'risk_category']])\n",
    "\n",
    "# Summary statistics\n",
    "display(Markdown(\"\\n### Risk Distribution\"))\n",
    "risk_summary = transactions_to_score['risk_category'].value_counts()\n",
    "for category, count in risk_summary.items():\n",
    "    display(Markdown(f\"- **{category}**: {count} transaction(s)\"))"
   ]
  },
  {
   "cell_type": "markdown",
   "metadata": {},
   "source": [
    "## Feature Importance Analysis\n",
    "\n",
    "Understanding which features the model considers most important for prediction."
   ]
  },
  {
   "cell_type": "code",
   "execution_count": 7,
   "metadata": {},
   "outputs": [
    {
     "data": {
      "text/markdown": [
       "### Top 10 Most Important Features for Risk Prediction"
      ],
      "text/plain": [
       "<IPython.core.display.Markdown object>"
      ]
     },
     "metadata": {},
     "output_type": "display_data"
    },
    {
     "data": {
      "text/markdown": [
       "**floating_duration_minutes**: ███████████████████████████████████████████████████████████████████████████████████████████████████████████████████████████████████████████████████████████████ 79.6%"
      ],
      "text/plain": [
       "<IPython.core.display.Markdown object>"
      ]
     },
     "metadata": {},
     "output_type": "display_data"
    },
    {
     "data": {
      "text/markdown": [
       "**simulated_network_latency**: ██████ 3.4%"
      ],
      "text/plain": [
       "<IPython.core.display.Markdown object>"
      ]
     },
     "metadata": {},
     "output_type": "display_data"
    },
    {
     "data": {
      "text/markdown": [
       "**amount_log**: █████ 3.0%"
      ],
      "text/plain": [
       "<IPython.core.display.Markdown object>"
      ]
     },
     "metadata": {},
     "output_type": "display_data"
    },
    {
     "data": {
      "text/markdown": [
       "**amount**: █████ 2.7%"
      ],
      "text/plain": [
       "<IPython.core.display.Markdown object>"
      ]
     },
     "metadata": {},
     "output_type": "display_data"
    },
    {
     "data": {
      "text/markdown": [
       "**recipient_bank_name_or_ewallet**: █████ 2.6%"
      ],
      "text/plain": [
       "<IPython.core.display.Markdown object>"
      ]
     },
     "metadata": {},
     "output_type": "display_data"
    },
    {
     "data": {
      "text/markdown": [
       "**transaction_type**: █████ 2.5%"
      ],
      "text/plain": [
       "<IPython.core.display.Markdown object>"
      ]
     },
     "metadata": {},
     "output_type": "display_data"
    },
    {
     "data": {
      "text/markdown": [
       "**hour_of_day**: ████ 2.1%"
      ],
      "text/plain": [
       "<IPython.core.display.Markdown object>"
      ]
     },
     "metadata": {},
     "output_type": "display_data"
    },
    {
     "data": {
      "text/markdown": [
       "**day_of_week**: █ 1.0%"
      ],
      "text/plain": [
       "<IPython.core.display.Markdown object>"
      ]
     },
     "metadata": {},
     "output_type": "display_data"
    },
    {
     "data": {
      "text/markdown": [
       "**recipient_type**: █ 0.9%"
      ],
      "text/plain": [
       "<IPython.core.display.Markdown object>"
      ]
     },
     "metadata": {},
     "output_type": "display_data"
    },
    {
     "data": {
      "text/markdown": [
       "**manual_escalation_needed**: █ 0.7%"
      ],
      "text/plain": [
       "<IPython.core.display.Markdown object>"
      ]
     },
     "metadata": {},
     "output_type": "display_data"
    },
    {
     "data": {
      "text/markdown": [
       "\n",
       "📊 **Key Insights:**"
      ],
      "text/plain": [
       "<IPython.core.display.Markdown object>"
      ]
     },
     "metadata": {},
     "output_type": "display_data"
    },
    {
     "data": {
      "text/markdown": [
       "- The most important feature is **floating_duration_minutes** accounting for 79.6% of the model's decisions"
      ],
      "text/plain": [
       "<IPython.core.display.Markdown object>"
      ]
     },
     "metadata": {},
     "output_type": "display_data"
    },
    {
     "data": {
      "text/markdown": [
       "- Network latency and transaction amount are also significant factors"
      ],
      "text/plain": [
       "<IPython.core.display.Markdown object>"
      ]
     },
     "metadata": {},
     "output_type": "display_data"
    },
    {
     "data": {
      "text/markdown": [
       "- Time-based features (hour, day of week) provide additional predictive power"
      ],
      "text/plain": [
       "<IPython.core.display.Markdown object>"
      ]
     },
     "metadata": {},
     "output_type": "display_data"
    }
   ],
   "source": [
    "# Get feature importance from the Random Forest model\n",
    "feature_importance = predictor.get_feature_importance()\n",
    "\n",
    "if feature_importance is not None:\n",
    "    display(Markdown(\"### Top 10 Most Important Features for Risk Prediction\"))\n",
    "    \n",
    "    top_features = feature_importance.head(10)\n",
    "    \n",
    "    for idx, row in top_features.iterrows():\n",
    "        importance_pct = row['importance'] * 100\n",
    "        bar = '█' * int(importance_pct * 2)  # Visual bar\n",
    "        display(Markdown(f\"**{row['feature']}**: {bar} {importance_pct:.1f}%\"))\n",
    "    \n",
    "    display(Markdown(\"\\n📊 **Key Insights:**\"))\n",
    "    top_feature = feature_importance.iloc[0]\n",
    "    display(Markdown(f\"- The most important feature is **{top_feature['feature']}** \"\n",
    "                    f\"accounting for {top_feature['importance']*100:.1f}% of the model's decisions\"))\n",
    "    display(Markdown(\"- Network latency and transaction amount are also significant factors\"))\n",
    "    display(Markdown(\"- Time-based features (hour, day of week) provide additional predictive power\"))"
   ]
  },
  {
   "cell_type": "markdown",
   "metadata": {},
   "source": [
    "## Combined Analysis: Detection + Risk Scoring\n",
    "\n",
    "Using both models together for comprehensive transaction analysis."
   ]
  },
  {
   "cell_type": "code",
   "execution_count": 8,
   "metadata": {},
   "outputs": [
    {
     "name": "stdout",
     "output_type": "stream",
     "text": [
      "Flagged 1/2 transactions (50.00%)\n"
     ]
    },
    {
     "data": {
      "text/markdown": [
       "## 📊 Comprehensive Transaction Analysis"
      ],
      "text/plain": [
       "<IPython.core.display.Markdown object>"
      ]
     },
     "metadata": {},
     "output_type": "display_data"
    },
    {
     "data": {
      "text/markdown": [
       "\n",
       "### Transaction: TXN_TEST_001"
      ],
      "text/plain": [
       "<IPython.core.display.Markdown object>"
      ]
     },
     "metadata": {},
     "output_type": "display_data"
    },
    {
     "data": {
      "text/markdown": [
       "**Amount:** $5,000.00 | **Type:** Bank to e-Wallet (Maya)"
      ],
      "text/plain": [
       "<IPython.core.display.Markdown object>"
      ]
     },
     "metadata": {},
     "output_type": "display_data"
    },
    {
     "data": {
      "text/markdown": [
       "🔴 **Current Status:** FLOATING CASH DETECTED"
      ],
      "text/plain": [
       "<IPython.core.display.Markdown object>"
      ]
     },
     "metadata": {},
     "output_type": "display_data"
    },
    {
     "data": {
      "text/markdown": [
       "   - Has been floating for 45 minutes"
      ],
      "text/plain": [
       "<IPython.core.display.Markdown object>"
      ]
     },
     "metadata": {},
     "output_type": "display_data"
    },
    {
     "data": {
      "text/markdown": [
       "**Future Risk:** 🔴 HIGH (71.1%)"
      ],
      "text/plain": [
       "<IPython.core.display.Markdown object>"
      ]
     },
     "metadata": {},
     "output_type": "display_data"
    },
    {
     "data": {
      "text/markdown": [
       "**📋 Recommended Actions:**"
      ],
      "text/plain": [
       "<IPython.core.display.Markdown object>"
      ]
     },
     "metadata": {},
     "output_type": "display_data"
    },
    {
     "data": {
      "text/markdown": [
       "- Immediate intervention required"
      ],
      "text/plain": [
       "<IPython.core.display.Markdown object>"
      ]
     },
     "metadata": {},
     "output_type": "display_data"
    },
    {
     "data": {
      "text/markdown": [
       "- Contact reconciliation team"
      ],
      "text/plain": [
       "<IPython.core.display.Markdown object>"
      ]
     },
     "metadata": {},
     "output_type": "display_data"
    },
    {
     "data": {
      "text/markdown": [
       "- Flag for monitoring"
      ],
      "text/plain": [
       "<IPython.core.display.Markdown object>"
      ]
     },
     "metadata": {},
     "output_type": "display_data"
    },
    {
     "data": {
      "text/markdown": [
       "- Consider manual review"
      ],
      "text/plain": [
       "<IPython.core.display.Markdown object>"
      ]
     },
     "metadata": {},
     "output_type": "display_data"
    },
    {
     "data": {
      "text/markdown": [
       "\n",
       "### Transaction: TXN_TEST_002"
      ],
      "text/plain": [
       "<IPython.core.display.Markdown object>"
      ]
     },
     "metadata": {},
     "output_type": "display_data"
    },
    {
     "data": {
      "text/markdown": [
       "**Amount:** $1,000.00 | **Type:** QR Payment (Merchant)"
      ],
      "text/plain": [
       "<IPython.core.display.Markdown object>"
      ]
     },
     "metadata": {},
     "output_type": "display_data"
    },
    {
     "data": {
      "text/markdown": [
       "✅ **Current Status:** Normal"
      ],
      "text/plain": [
       "<IPython.core.display.Markdown object>"
      ]
     },
     "metadata": {},
     "output_type": "display_data"
    },
    {
     "data": {
      "text/markdown": [
       "**Future Risk:** 🟢 LOW (1.6%)"
      ],
      "text/plain": [
       "<IPython.core.display.Markdown object>"
      ]
     },
     "metadata": {},
     "output_type": "display_data"
    }
   ],
   "source": [
    "# Example: Complete transaction analysis pipeline\n",
    "test_transactions = pd.DataFrame([\n",
    "    {\n",
    "        'transaction_id': 'TXN_TEST_001',\n",
    "        'user_id': 'USER_ABC',\n",
    "        'timestamp_initiated': '2025-01-19 15:30:00',\n",
    "        'amount': 5000.00,\n",
    "        'transaction_type': 'Bank to e-Wallet (Maya)',\n",
    "        'recipient_type': 'Individual',\n",
    "        'recipient_bank_name_or_ewallet': 'Maya',\n",
    "        'status_4': 'Failed (Timeout)',\n",
    "        'simulated_network_latency': 1200,\n",
    "        'floating_duration_minutes': 45,\n",
    "        'is_fraudulent_attempt': False,\n",
    "        'is_cancellation': False,\n",
    "        'manual_escalation_needed': True\n",
    "    },\n",
    "    {\n",
    "        'transaction_id': 'TXN_TEST_002',\n",
    "        'user_id': 'USER_XYZ',\n",
    "        'timestamp_initiated': '2025-01-19 10:00:00',\n",
    "        'amount': 1000.00,\n",
    "        'transaction_type': 'QR Payment (Merchant)',\n",
    "        'recipient_type': 'Business',\n",
    "        'recipient_bank_name_or_ewallet': 'GCash',\n",
    "        'status_4': 'Credit Confirmed (Recipient)',\n",
    "        'simulated_network_latency': 300,\n",
    "        'floating_duration_minutes': 2,\n",
    "        'is_fraudulent_attempt': False,\n",
    "        'is_cancellation': False,\n",
    "        'manual_escalation_needed': False\n",
    "    }\n",
    "])\n",
    "\n",
    "# Step 1: Detect current discrepancies\n",
    "detection_results = detector.detect_discrepancies(test_transactions.copy())\n",
    "\n",
    "# Step 2: Predict future risk\n",
    "risk_scores = predictor.predict_risk(test_transactions)\n",
    "\n",
    "# Combine results\n",
    "test_transactions['is_floating_now'] = detection_results['detected_discrepancy']\n",
    "test_transactions['future_risk_score'] = risk_scores\n",
    "\n",
    "# Display comprehensive analysis\n",
    "display(Markdown(\"## 📊 Comprehensive Transaction Analysis\"))\n",
    "\n",
    "for idx, txn in test_transactions.iterrows():\n",
    "    display(Markdown(f\"\\n### Transaction: {txn['transaction_id']}\"))\n",
    "    display(Markdown(f\"**Amount:** ${txn['amount']:,.2f} | **Type:** {txn['transaction_type']}\"))\n",
    "    \n",
    "    # Current status\n",
    "    if txn['is_floating_now']:\n",
    "        display(Markdown(\"🔴 **Current Status:** FLOATING CASH DETECTED\"))\n",
    "        display(Markdown(f\"   - Has been floating for {txn['floating_duration_minutes']} minutes\"))\n",
    "    else:\n",
    "        display(Markdown(\"✅ **Current Status:** Normal\"))\n",
    "    \n",
    "    # Future risk\n",
    "    risk_pct = txn['future_risk_score'] * 100\n",
    "    if risk_pct > 70:\n",
    "        risk_label = \"🔴 HIGH\"\n",
    "    elif risk_pct > 30:\n",
    "        risk_label = \"🟡 MEDIUM\"\n",
    "    else:\n",
    "        risk_label = \"🟢 LOW\"\n",
    "    \n",
    "    display(Markdown(f\"**Future Risk:** {risk_label} ({risk_pct:.1f}%)\"))\n",
    "    \n",
    "    # Recommendations\n",
    "    if txn['is_floating_now'] or risk_pct > 70:\n",
    "        display(Markdown(\"**📋 Recommended Actions:**\"))\n",
    "        if txn['is_floating_now']:\n",
    "            display(Markdown(\"- Immediate intervention required\"))\n",
    "            display(Markdown(\"- Contact reconciliation team\"))\n",
    "        if risk_pct > 70:\n",
    "            display(Markdown(\"- Flag for monitoring\"))\n",
    "            display(Markdown(\"- Consider manual review\"))"
   ]
  },
  {
   "cell_type": "markdown",
   "metadata": {},
   "source": [
    "## Model Performance Summary\n",
    "\n",
    "### Discrepancy Detector Performance\n",
    "- **Detection Method**: Rule-based (floating_duration > 10 minutes)\n",
    "- **Precision**: ~34% (of flagged transactions, 34% are truly floating)\n",
    "- **Recall**: ~96% (catches 96% of all floating transactions)\n",
    "- **Alert Rate**: ~14% of all transactions\n",
    "\n",
    "### Risk Predictor Performance\n",
    "- **Model Type**: Random Forest Classifier\n",
    "- **Accuracy**: ~92.5%\n",
    "- **AUC-ROC**: ~95.3%\n",
    "- **Precision**: ~37% for high-risk class\n",
    "- **Recall**: ~73% for high-risk class\n",
    "\n",
    "### Key Insights\n",
    "1. **Floating duration** is the strongest predictor (83.6% importance)\n",
    "2. **Network latency** significantly impacts risk (2.6% importance)\n",
    "3. **Transaction amount** and its log transform are important factors\n",
    "4. **Time of day** matters - late night/early morning transactions are riskier\n",
    "5. **Manual escalation flag** is a strong indicator of problems"
   ]
  },
  {
   "cell_type": "markdown",
   "metadata": {},
   "source": [
    "## Production Usage Guidelines\n",
    "\n",
    "### When to Use Each Model\n",
    "\n",
    "**Use Discrepancy Detector when:**\n",
    "- You need to identify transactions that are currently stuck\n",
    "- Real-time monitoring of transaction status\n",
    "- Generating alerts for immediate action\n",
    "\n",
    "**Use Risk Predictor when:**\n",
    "- Evaluating new transactions before processing\n",
    "- Prioritizing transaction monitoring resources\n",
    "- Implementing preventive measures\n",
    "\n",
    "### Integration Recommendations\n",
    "1. **Pre-screening**: Use Risk Predictor on new transactions\n",
    "2. **Monitoring**: Use Discrepancy Detector on active transactions\n",
    "3. **Escalation**: Combine both models to prioritize interventions\n",
    "4. **Reporting**: Track both current issues and predicted risks\n",
    "\n",
    "### Threshold Tuning\n",
    "- Discrepancy Detector: Adjust `_THRESHOLD_MIN` in the class (default: 10 minutes)\n",
    "- Risk Predictor: Adjust risk score thresholds based on business tolerance:\n",
    "  - Conservative: Flag if risk > 0.2\n",
    "  - Balanced: Flag if risk > 0.5\n",
    "  - Aggressive: Flag if risk > 0.7"
   ]
  }
 ],
 "metadata": {
  "kernelspec": {
   "display_name": "qsar",
   "language": "python",
   "name": "python3"
  },
  "language_info": {
   "codemirror_mode": {
    "name": "ipython",
    "version": 3
   },
   "file_extension": ".py",
   "mimetype": "text/x-python",
   "name": "python",
   "nbconvert_exporter": "python",
   "pygments_lexer": "ipython3",
   "version": "3.10.16"
  }
 },
 "nbformat": 4,
 "nbformat_minor": 4
}
