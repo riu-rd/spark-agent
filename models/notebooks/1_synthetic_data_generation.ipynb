{
  "cells": [
    {
      "cell_type": "markdown",
      "metadata": {
        "id": "zRmmYzDTFy-B"
      },
      "source": [
        "#Setup"
      ]
    },
    {
      "cell_type": "code",
      "execution_count": null,
      "metadata": {
        "id": "X86Q-iPJ-sj5",
        "colab": {
          "base_uri": "https://localhost:8080/"
        },
        "outputId": "21674500-2937-459a-a67b-d32735c9c11a"
      },
      "outputs": [
        {
          "output_type": "stream",
          "name": "stdout",
          "text": [
            "Requirement already satisfied: google-generativeai in /usr/local/lib/python3.11/dist-packages (0.8.5)\n",
            "Collecting faker\n",
            "  Downloading faker-37.4.2-py3-none-any.whl.metadata (15 kB)\n",
            "Requirement already satisfied: pandas in /usr/local/lib/python3.11/dist-packages (2.2.2)\n",
            "Requirement already satisfied: numpy in /usr/local/lib/python3.11/dist-packages (2.0.2)\n",
            "Requirement already satisfied: google-ai-generativelanguage==0.6.15 in /usr/local/lib/python3.11/dist-packages (from google-generativeai) (0.6.15)\n",
            "Requirement already satisfied: google-api-core in /usr/local/lib/python3.11/dist-packages (from google-generativeai) (2.25.1)\n",
            "Requirement already satisfied: google-api-python-client in /usr/local/lib/python3.11/dist-packages (from google-generativeai) (2.176.0)\n",
            "Requirement already satisfied: google-auth>=2.15.0 in /usr/local/lib/python3.11/dist-packages (from google-generativeai) (2.38.0)\n",
            "Requirement already satisfied: protobuf in /usr/local/lib/python3.11/dist-packages (from google-generativeai) (5.29.5)\n",
            "Requirement already satisfied: pydantic in /usr/local/lib/python3.11/dist-packages (from google-generativeai) (2.11.7)\n",
            "Requirement already satisfied: tqdm in /usr/local/lib/python3.11/dist-packages (from google-generativeai) (4.67.1)\n",
            "Requirement already satisfied: typing-extensions in /usr/local/lib/python3.11/dist-packages (from google-generativeai) (4.14.1)\n",
            "Requirement already satisfied: proto-plus<2.0.0dev,>=1.22.3 in /usr/local/lib/python3.11/dist-packages (from google-ai-generativelanguage==0.6.15->google-generativeai) (1.26.1)\n",
            "Requirement already satisfied: tzdata in /usr/local/lib/python3.11/dist-packages (from faker) (2025.2)\n",
            "Requirement already satisfied: python-dateutil>=2.8.2 in /usr/local/lib/python3.11/dist-packages (from pandas) (2.9.0.post0)\n",
            "Requirement already satisfied: pytz>=2020.1 in /usr/local/lib/python3.11/dist-packages (from pandas) (2025.2)\n",
            "Requirement already satisfied: googleapis-common-protos<2.0.0,>=1.56.2 in /usr/local/lib/python3.11/dist-packages (from google-api-core->google-generativeai) (1.70.0)\n",
            "Requirement already satisfied: requests<3.0.0,>=2.18.0 in /usr/local/lib/python3.11/dist-packages (from google-api-core->google-generativeai) (2.32.3)\n",
            "Requirement already satisfied: cachetools<6.0,>=2.0.0 in /usr/local/lib/python3.11/dist-packages (from google-auth>=2.15.0->google-generativeai) (5.5.2)\n",
            "Requirement already satisfied: pyasn1-modules>=0.2.1 in /usr/local/lib/python3.11/dist-packages (from google-auth>=2.15.0->google-generativeai) (0.4.2)\n",
            "Requirement already satisfied: rsa<5,>=3.1.4 in /usr/local/lib/python3.11/dist-packages (from google-auth>=2.15.0->google-generativeai) (4.9.1)\n",
            "Requirement already satisfied: six>=1.5 in /usr/local/lib/python3.11/dist-packages (from python-dateutil>=2.8.2->pandas) (1.17.0)\n",
            "Requirement already satisfied: httplib2<1.0.0,>=0.19.0 in /usr/local/lib/python3.11/dist-packages (from google-api-python-client->google-generativeai) (0.22.0)\n",
            "Requirement already satisfied: google-auth-httplib2<1.0.0,>=0.2.0 in /usr/local/lib/python3.11/dist-packages (from google-api-python-client->google-generativeai) (0.2.0)\n",
            "Requirement already satisfied: uritemplate<5,>=3.0.1 in /usr/local/lib/python3.11/dist-packages (from google-api-python-client->google-generativeai) (4.2.0)\n",
            "Requirement already satisfied: annotated-types>=0.6.0 in /usr/local/lib/python3.11/dist-packages (from pydantic->google-generativeai) (0.7.0)\n",
            "Requirement already satisfied: pydantic-core==2.33.2 in /usr/local/lib/python3.11/dist-packages (from pydantic->google-generativeai) (2.33.2)\n",
            "Requirement already satisfied: typing-inspection>=0.4.0 in /usr/local/lib/python3.11/dist-packages (from pydantic->google-generativeai) (0.4.1)\n",
            "Requirement already satisfied: grpcio<2.0.0,>=1.33.2 in /usr/local/lib/python3.11/dist-packages (from google-api-core[grpc]!=2.0.*,!=2.1.*,!=2.10.*,!=2.2.*,!=2.3.*,!=2.4.*,!=2.5.*,!=2.6.*,!=2.7.*,!=2.8.*,!=2.9.*,<3.0.0dev,>=1.34.1->google-ai-generativelanguage==0.6.15->google-generativeai) (1.73.1)\n",
            "Requirement already satisfied: grpcio-status<2.0.0,>=1.33.2 in /usr/local/lib/python3.11/dist-packages (from google-api-core[grpc]!=2.0.*,!=2.1.*,!=2.10.*,!=2.2.*,!=2.3.*,!=2.4.*,!=2.5.*,!=2.6.*,!=2.7.*,!=2.8.*,!=2.9.*,<3.0.0dev,>=1.34.1->google-ai-generativelanguage==0.6.15->google-generativeai) (1.71.2)\n",
            "Requirement already satisfied: pyparsing!=3.0.0,!=3.0.1,!=3.0.2,!=3.0.3,<4,>=2.4.2 in /usr/local/lib/python3.11/dist-packages (from httplib2<1.0.0,>=0.19.0->google-api-python-client->google-generativeai) (3.2.3)\n",
            "Requirement already satisfied: pyasn1<0.7.0,>=0.6.1 in /usr/local/lib/python3.11/dist-packages (from pyasn1-modules>=0.2.1->google-auth>=2.15.0->google-generativeai) (0.6.1)\n",
            "Requirement already satisfied: charset-normalizer<4,>=2 in /usr/local/lib/python3.11/dist-packages (from requests<3.0.0,>=2.18.0->google-api-core->google-generativeai) (3.4.2)\n",
            "Requirement already satisfied: idna<4,>=2.5 in /usr/local/lib/python3.11/dist-packages (from requests<3.0.0,>=2.18.0->google-api-core->google-generativeai) (3.10)\n",
            "Requirement already satisfied: urllib3<3,>=1.21.1 in /usr/local/lib/python3.11/dist-packages (from requests<3.0.0,>=2.18.0->google-api-core->google-generativeai) (2.4.0)\n",
            "Requirement already satisfied: certifi>=2017.4.17 in /usr/local/lib/python3.11/dist-packages (from requests<3.0.0,>=2.18.0->google-api-core->google-generativeai) (2025.7.14)\n",
            "Downloading faker-37.4.2-py3-none-any.whl (1.9 MB)\n",
            "\u001b[2K   \u001b[90m━━━━━━━━━━━━━━━━━━━━━━━━━━━━━━━━━━━━━━━━\u001b[0m \u001b[32m1.9/1.9 MB\u001b[0m \u001b[31m36.0 MB/s\u001b[0m eta \u001b[36m0:00:00\u001b[0m\n",
            "\u001b[?25hInstalling collected packages: faker\n",
            "Successfully installed faker-37.4.2\n"
          ]
        }
      ],
      "source": [
        "pip install google-generativeai faker pandas numpy"
      ]
    },
    {
      "cell_type": "code",
      "execution_count": null,
      "metadata": {
        "id": "I9Qrptc9-3nS",
        "colab": {
          "base_uri": "https://localhost:8080/"
        },
        "outputId": "2d1f9d9e-3f66-4a5b-81f0-c4c960c255a8"
      },
      "outputs": [
        {
          "output_type": "stream",
          "name": "stdout",
          "text": [
            "Gemini API configured successfully using Colab Secrets.\n"
          ]
        }
      ],
      "source": [
        "import google.generativeai as genai\n",
        "from google.colab import userdata\n",
        "\n",
        "api_key = userdata.get('GEMINI_API_KEY')\n",
        "genai.configure(api_key=api_key)\n",
        "model = genai.GenerativeModel(\"gemini-2.5-flash\")\n",
        "print(\"Gemini API configured successfully using Colab Secrets.\")\n"
      ]
    },
    {
      "cell_type": "markdown",
      "metadata": {
        "id": "lBmVqgZvGQvv"
      },
      "source": [
        "#Prompt"
      ]
    },
    {
      "cell_type": "code",
      "execution_count": null,
      "metadata": {
        "id": "CNb_akpS-9eU"
      },
      "outputs": [],
      "source": [
        "def build_prompt(batch_size=10):\n",
        "    return f\"\"\"\n",
        "You are a JSON API simulator for a synthetic transaction generator within the Vybe app.\n",
        "\n",
        "Generate exactly 10 simulated transactions as a **single minified JSON array** of 10 objects. Return only one line of output. No markdown, no explanations, no line breaks.\n",
        "\n",
        "Each object in the array must include the following keys:\n",
        "\n",
        "Metadata:\n",
        "- transaction_id: UUID\n",
        "- user_id: user_{{number}}\n",
        "- timestamp_initiated: in 'YYYY-MM-DD HH:MM:SS' format\n",
        "- amount: float between 10.0 and 10000.0\n",
        "- transaction_type: One of [\n",
        "    \"Bank to Bank (InstaPay)\", \"Bank to Bank (PESONet)\", \"Bank to e-Wallet (GCash)\", \"Bank to e-Wallet (Maya)\",\n",
        "    \"Bank to e-Wallet (ShopeePay)\", \"BPI to Vybe Wallet\", \"Vybe Wallet to GCash\", \"Vybe Wallet to Maya\",\n",
        "    \"Vybe Wallet to ShopeePay\", \"Vybe Wallet to Vybe Wallet\", \"Vybe Wallet to Bank (BPI)\",\n",
        "    \"Internal Vybe App Transfer\", \"Internal Cashback Credit\", \"Auto-Reversal Processed\", \"Auto-Retry Triggered\",\n",
        "    \"Manual Escalation Triggered\", \"QR Payment (Merchant)\", \"QR Payment (P2P)\", \"Bills Payment (via Vybe Wallet)\",\n",
        "    \"Bills Payment (via BPI Linked)\", \"Scheduled Transfer (Future Dated)\", \"Cash-In via Partner Outlet\", \"Cash-Out via ATM or OTC\"\n",
        "]\n",
        "- recipient_type: \"New Recipient\" or \"Frequent Recipient\"\n",
        "- recipient_account_id: 12-digit string\n",
        "- recipient_bank_name_or_ewallet: matches transaction_type\n",
        "- device_id: UUID\n",
        "- location_coordinates: [float_latitude, float_longitude]\n",
        "- simulated_network_latency: int from 50 to 5000 (ms)\n",
        "\n",
        "Transaction Status Progression:\n",
        "- status_timestamp_1: time for \"Initiated\"\n",
        "- status_1: \"Initiated\"\n",
        "- status_timestamp_2: time for \"Debit Confirmed (BPI)\"\n",
        "- status_2: \"Debit Confirmed (BPI)\"\n",
        "- status_timestamp_3: time for \"Processing (Recipient Bank/e-Wallet)\"\n",
        "- status_3: \"Processing (Recipient Bank/e-Wallet)\"\n",
        "- status_timestamp_4: time for final status\n",
        "- status_4: one of [\"Credit Confirmed (Recipient)\", \"Failed (Network Error)\", \"Failed (Timeout)\", \"Reversed (User Cancelled)\"]\n",
        "- expected_completion_time: 2 to 10 minutes after initiation\n",
        "\n",
        "Anomalies:\n",
        "- is_floating_cash: Boolean\n",
        "- floating_duration_minutes: Int (0 if false)\n",
        "- is_fraudulent_attempt: Boolean\n",
        "- is_cancellation: Boolean\n",
        "- is_retry_successful: Boolean\n",
        "- manual_escalation_needed: Boolean\n",
        "\n",
        "All timestamps must be chronologically logical. Use realistic variations.\n",
        "\n",
        "RESPONSE FORMAT: one-line minified JSON array of 10 objects, no extra text.\n",
        "\n",
        "\"\"\"\n"
      ]
    },
    {
      "cell_type": "markdown",
      "metadata": {
        "id": "91_-9TYpGTPW"
      },
      "source": [
        "#Actual Generation"
      ]
    },
    {
      "cell_type": "code",
      "execution_count": null,
      "metadata": {
        "colab": {
          "base_uri": "https://localhost:8080/"
        },
        "id": "Ptda-BAHEmep",
        "outputId": "e81ad913-f4a7-4f73-9787-46f77c039cee"
      },
      "outputs": [
        {
          "output_type": "stream",
          "name": "stdout",
          "text": [
            "\n",
            " Generating batch... Current count: 0\n"
          ]
        }
      ],
      "source": [
        "import json\n",
        "import pandas as pd\n",
        "import time\n",
        "from datetime import datetime\n",
        "\n",
        "# Settings\n",
        "batch_size = 10\n",
        "target_total = 2400\n",
        "max_retries = 3\n",
        "save_interval = 100  # Save to CSV every 100 entries\n",
        "\n",
        "synthetic_data = []\n",
        "\n",
        "pd.set_option(\"display.max_columns\", None)\n",
        "\n",
        "while len(synthetic_data) < target_total:\n",
        "    print(f\"\\n Generating batch... Current count: {len(synthetic_data)}\")\n",
        "\n",
        "    prompt = build_prompt(batch_size)\n",
        "\n",
        "    success = False\n",
        "    retries = 0\n",
        "    while not success and retries < max_retries:\n",
        "        try:\n",
        "            response = model.generate_content(prompt)\n",
        "            raw_text = response.text.strip()\n",
        "\n",
        "            # Validate and parse JSON array\n",
        "            batch = json.loads(raw_text)\n",
        "\n",
        "            if isinstance(batch, list) and all(isinstance(entry, dict) for entry in batch):\n",
        "                synthetic_data.extend(batch)\n",
        "                print(f\"[✓] Added {len(batch)} entries. Total: {len(synthetic_data)}\")\n",
        "                success = True\n",
        "            else:\n",
        "                raise ValueError(\"Invalid batch format\")\n",
        "\n",
        "        except Exception as e:\n",
        "            retries += 1\n",
        "            print(f\"[!] Retry {retries}/{max_retries}: {e}\")\n",
        "            time.sleep(1)\n",
        "\n",
        "    # Save intermediate progress\n",
        "    if len(synthetic_data) % save_interval == 0:\n",
        "        df = pd.DataFrame(synthetic_data)\n",
        "        filename = f\"synthetic_transactions_progress_{len(synthetic_data)}.csv\"\n",
        "        df.to_csv(filename, index=False)\n",
        "        print(f\"Saved checkpoint: {filename}\")\n",
        "\n",
        "# Final save\n",
        "df = pd.DataFrame(synthetic_data)\n",
        "df.to_csv(\"synthetic_transactions_gemini_final.csv\", index=False)\n",
        "print(f\"\\n Done! Total entries generated: {len(synthetic_data)}\")\n"
      ]
    }
  ],
  "metadata": {
    "colab": {
      "provenance": [],
      "gpuType": "T4"
    },
    "kernelspec": {
      "display_name": "Python 3",
      "name": "python3"
    },
    "language_info": {
      "name": "python"
    },
    "accelerator": "GPU"
  },
  "nbformat": 4,
  "nbformat_minor": 0
}